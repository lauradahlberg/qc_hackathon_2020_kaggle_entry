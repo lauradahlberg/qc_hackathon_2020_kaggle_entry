{
 "cells": [
  {
   "cell_type": "markdown",
   "metadata": {},
   "source": [
    "## final submission \n",
    "---\n",
    "adding voting classifier for best models\n",
    "1. KNeighborsRegressor \n",
    "1. RandomForestRegressor\n",
    "1. MLPRegressor\n",
    "\n",
    "Note: we were in the top 3 almost the entire contest until the final hour!"
   ]
  },
  {
   "cell_type": "code",
   "execution_count": 1,
   "metadata": {},
   "outputs": [],
   "source": [
    "%load_ext autoreload\n",
    "%autoreload 2\n",
    "%matplotlib inline"
   ]
  },
  {
   "cell_type": "code",
   "execution_count": 2,
   "metadata": {},
   "outputs": [],
   "source": [
    "from pathlib import Path\n",
    "import pandas as pd\n",
    "\n",
    "import numpy as np\n",
    "\n",
    "#from helpers import *\n",
    "\n",
    "from joblib import dump, load\n",
    "from sklearn.neural_network import MLPRegressor\n",
    "from sklearn.ensemble import (RandomForestRegressor, RandomForestClassifier)\n",
    "from sklearn.linear_model import LinearRegression\n",
    "from sklearn.gaussian_process import GaussianProcessRegressor\n",
    "from sklearn.neighbors import KNeighborsRegressor\n",
    "from sklearn import svm # svm.SVC(kernel='linear'), svm.SVC(kernel='rbf')\n",
    "from sklearn.ensemble import VotingRegressor\n",
    "\n",
    "from sklearn.feature_selection import VarianceThreshold\n",
    "\n",
    "from sklearn import metrics\n",
    "from sklearn.preprocessing import StandardScaler\n",
    "from sklearn.impute import SimpleImputer\n",
    "from sklearn.model_selection import train_test_split\n",
    "from sklearn.pipeline import Pipeline"
   ]
  },
  {
   "cell_type": "code",
   "execution_count": 3,
   "metadata": {},
   "outputs": [],
   "source": [
    "# based upon the judging criterion\n",
    "## wmse is the weighted mean squared error\n",
    "def wmse(actual, pred, weight):\n",
    "    return sum ((actual - pred) * (actual - pred) * weight) / sum(weight)"
   ]
  },
  {
   "cell_type": "code",
   "execution_count": 4,
   "metadata": {},
   "outputs": [
    {
     "data": {
      "text/plain": [
       "0.6666666666666666"
      ]
     },
     "execution_count": 4,
     "metadata": {},
     "output_type": "execute_result"
    }
   ],
   "source": [
    "wmse(np.array([0,1]), np.array([1,1]), np.array([2,1]))"
   ]
  },
  {
   "cell_type": "code",
   "execution_count": 5,
   "metadata": {
    "scrolled": true
   },
   "outputs": [
    {
     "data": {
      "text/plain": [
       "['data/raw/.ipynb_checkpoints',\n",
       " 'data/raw/data description.csv',\n",
       " 'data/raw/example_code.py',\n",
       " 'data/raw/testing.csv',\n",
       " 'data/raw/training.csv']"
      ]
     },
     "execution_count": 5,
     "metadata": {},
     "output_type": "execute_result"
    }
   ],
   "source": [
    "# --------------------------------------------------------------------------\n",
    "\n",
    "# global vars\n",
    "\n",
    "# --------------------------------------------------------------------------\n",
    "\n",
    "PROJ = Path(r\".\")\n",
    "# put data here\n",
    "DATA = PROJ/'data' \n",
    "RAW = DATA/'raw'\n",
    "data_files = list(RAW.iterdir())\n",
    "[str(f) for f in data_files]"
   ]
  },
  {
   "cell_type": "code",
   "execution_count": 6,
   "metadata": {},
   "outputs": [
    {
     "name": "stdout",
     "output_type": "stream",
     "text": [
      "<class 'pandas.core.frame.DataFrame'>\n",
      "Int64Index: 45 entries, 0 to 44\n",
      "Columns: 495 entries, Area_2015 to Transit_Ridership_Total_2013\n",
      "dtypes: float64(352), int64(143)\n",
      "memory usage: 174.4 KB\n"
     ]
    }
   ],
   "source": [
    "# desc = pd.read_csv(data_files[0])\n",
    "# display_all(desc)\n",
    "test_data = pd.read_csv('data/raw/testing.csv', index_col=0)\n",
    "#display_all(test_data.head())\n",
    "test_data.info()"
   ]
  },
  {
   "cell_type": "markdown",
   "metadata": {},
   "source": [
    "## data"
   ]
  },
  {
   "cell_type": "code",
   "execution_count": 7,
   "metadata": {},
   "outputs": [],
   "source": [
    "df = pd.read_csv('data/raw/training.csv', low_memory=False, index_col=0)#\n",
    "# display_all(df.info(3))\n",
    "# display_all(df.head(3).T)"
   ]
  },
  {
   "cell_type": "code",
   "execution_count": 8,
   "metadata": {},
   "outputs": [
    {
     "data": {
      "text/plain": [
       "0      2243\n",
       "1      9758\n",
       "2      1120\n",
       "3       772\n",
       "4      1839\n",
       "       ... \n",
       "411    3412\n",
       "412    1361\n",
       "413    2369\n",
       "414    2407\n",
       "415    2825\n",
       "Name: Population _2018, Length: 416, dtype: int64"
      ]
     },
     "execution_count": 8,
     "metadata": {},
     "output_type": "execute_result"
    }
   ],
   "source": [
    "# calculate the weights\n",
    "weights = df['Population _2018']\n",
    "weights"
   ]
  },
  {
   "cell_type": "markdown",
   "metadata": {},
   "source": [
    "### stats and nulls?"
   ]
  },
  {
   "cell_type": "code",
   "execution_count": 9,
   "metadata": {
    "scrolled": true
   },
   "outputs": [],
   "source": [
    "# display_all(df.describe())\n",
    "# display_all(df.isnull().sum())"
   ]
  },
  {
   "cell_type": "markdown",
   "metadata": {},
   "source": [
    "## simplest naive model "
   ]
  },
  {
   "cell_type": "code",
   "execution_count": 10,
   "metadata": {},
   "outputs": [],
   "source": [
    "X = df.drop('target', axis=1).copy()\n",
    "y = df['target'].copy()\n",
    "\n",
    "#X_train, X_test, y_train, y_test = train_test_split(X, y, random_state=42)\n",
    "X_train, X_test, y_train, y_test, weights_train, weights_test = train_test_split(X, y, weights, random_state=42)"
   ]
  },
  {
   "cell_type": "code",
   "execution_count": 11,
   "metadata": {},
   "outputs": [
    {
     "data": {
      "text/plain": [
       "((312, 495), (104, 495), (312,), (104,))"
      ]
     },
     "execution_count": 11,
     "metadata": {},
     "output_type": "execute_result"
    }
   ],
   "source": [
    "X_train.shape, X_test.shape, y_train.shape, y_test.shape"
   ]
  },
  {
   "cell_type": "code",
   "execution_count": 19,
   "metadata": {},
   "outputs": [
    {
     "data": {
      "text/plain": [
       "VotingRegressor(estimators=[('knn',\n",
       "                             KNeighborsRegressor(algorithm='auto', leaf_size=30,\n",
       "                                                 metric='minkowski',\n",
       "                                                 metric_params=None,\n",
       "                                                 n_jobs=None, n_neighbors=6,\n",
       "                                                 p=2, weights='uniform')),\n",
       "                            ('rf',\n",
       "                             RandomForestRegressor(bootstrap=True,\n",
       "                                                   ccp_alpha=0.0,\n",
       "                                                   criterion='mse',\n",
       "                                                   max_depth=None,\n",
       "                                                   max_features='auto',\n",
       "                                                   max_leaf_nodes=None,\n",
       "                                                   max_samples=None,\n",
       "                                                   min_impurity_decrease=0.0,\n",
       "                                                   min_im...\n",
       "                                          beta_2=0.999, early_stopping=False,\n",
       "                                          epsilon=1e-08,\n",
       "                                          hidden_layer_sizes=(100,),\n",
       "                                          learning_rate='constant',\n",
       "                                          learning_rate_init=0.001,\n",
       "                                          max_fun=15000, max_iter=200,\n",
       "                                          momentum=0.9, n_iter_no_change=10,\n",
       "                                          nesterovs_momentum=True, power_t=0.5,\n",
       "                                          random_state=42, shuffle=True,\n",
       "                                          solver='lbfgs', tol=0.0001,\n",
       "                                          validation_fraction=0.1,\n",
       "                                          verbose=False, warm_start=False))],\n",
       "                n_jobs=None, weights=None)"
      ]
     },
     "execution_count": 19,
     "metadata": {},
     "output_type": "execute_result"
    }
   ],
   "source": [
    "trans = Pipeline([('imputer', SimpleImputer(missing_values=np.nan, strategy='mean')),\n",
    "                      ('scaler', StandardScaler())])\n",
    "trans.fit(X_train)\n",
    "trans_train = trans.transform(X_train)\n",
    "trans_data = trans.transform(X_test)\n",
    "trans_data.shape\n",
    "\n",
    "trans_test = trans.transform(test_data)\n",
    "\n",
    "trans_test = trans.transform(test_data)\n",
    "## VotingRegressor is used when ensembling multiple base regressors to get one final prediction\n",
    "vote3 = VotingRegressor([('knn', KNeighborsRegressor(n_neighbors=6)), \n",
    "                         ('rf', RandomForestRegressor(random_state=42)), \n",
    "                         ('mlp', MLPRegressor(solver='lbfgs', \n",
    "                                      alpha=1e-5, \n",
    "                                      hidden_layer_sizes=(100,),\n",
    "                                      max_iter=200,\n",
    "                                      random_state=42, \n",
    "                                      n_iter_no_change=10))])\n",
    "#vote3.fit(trans_train, y_train)\n",
    "vote3.fit(trans_train, y_train)"
   ]
  },
  {
   "cell_type": "code",
   "execution_count": 12,
   "metadata": {},
   "outputs": [
    {
     "data": {
      "text/plain": [
       "(45, 495)"
      ]
     },
     "execution_count": 12,
     "metadata": {},
     "output_type": "execute_result"
    }
   ],
   "source": [
    "test_data.shape"
   ]
  },
  {
   "cell_type": "code",
   "execution_count": 14,
   "metadata": {},
   "outputs": [
    {
     "data": {
      "text/plain": [
       "(45, 495)"
      ]
     },
     "execution_count": 14,
     "metadata": {},
     "output_type": "execute_result"
    }
   ],
   "source": [
    "trans_test.shape"
   ]
  },
  {
   "cell_type": "code",
   "execution_count": 17,
   "metadata": {},
   "outputs": [
    {
     "data": {
      "text/plain": [
       "array([[701., 729.,   3., ..., 140.,  65., 130.],\n",
       "       [385., 385.,   4., ...,  30.,  34.,  34.],\n",
       "       [246., 246.,   4., ...,  nan,  nan,  nan],\n",
       "       [151., 151.,   8., ..., 272.,  94., 563.],\n",
       "       [594., 591.,   1., ...,  nan,  nan,  nan]])"
      ]
     },
     "metadata": {},
     "output_type": "display_data"
    },
    {
     "data": {
      "text/plain": [
       "array([[-0.04132533, -0.00270405, -0.59015089, ..., -0.29304079,\n",
       "         0.06860076, -0.30116446],\n",
       "       [-0.48646316, -0.48721208, -0.29364996, ..., -0.33722476,\n",
       "        -0.31038509, -0.33868968],\n",
       "       [-0.68226746, -0.68298713, -0.29364996, ...,  0.        ,\n",
       "         0.        ,  0.        ],\n",
       "       [-0.81609054, -0.81679022,  0.89235377, ..., -0.24002004,\n",
       "         0.42313592, -0.13191009],\n",
       "       [-0.19205238, -0.19707064, -1.18315276, ...,  0.        ,\n",
       "         0.        ,  0.        ]])"
      ]
     },
     "execution_count": 17,
     "metadata": {},
     "output_type": "execute_result"
    }
   ],
   "source": [
    "display(test_data.values[:5])\n",
    "trans_test[:5]"
   ]
  },
  {
   "cell_type": "code",
   "execution_count": 50,
   "metadata": {},
   "outputs": [
    {
     "name": "stdout",
     "output_type": "stream",
     "text": [
      "Test score: 0.19\n",
      "1.2738969793224084\n"
     ]
    },
    {
     "data": {
      "text/plain": [
       "0.3750513469478375"
      ]
     },
     "execution_count": 50,
     "metadata": {},
     "output_type": "execute_result"
    }
   ],
   "source": [
    "## making predictions from the test data\n",
    "preds_vote3 = vote3.predict(trans_data)\n",
    "print(\"Test score: {:.2f}\".format(vote3.score(trans_data, y_test )))\n",
    "print(metrics.mean_squared_error(y_test,preds_vote3))\n",
    "wmse(y_test,preds_vote3, weights_test)"
   ]
  },
  {
   "cell_type": "code",
   "execution_count": 51,
   "metadata": {},
   "outputs": [
    {
     "data": {
      "text/plain": [
       "(45, 495)"
      ]
     },
     "execution_count": 51,
     "metadata": {},
     "output_type": "execute_result"
    }
   ],
   "source": [
    "trans_test.shape"
   ]
  },
  {
   "cell_type": "code",
   "execution_count": 56,
   "metadata": {},
   "outputs": [
    {
     "data": {
      "text/plain": [
       "(45,)"
      ]
     },
     "execution_count": 56,
     "metadata": {},
     "output_type": "execute_result"
    }
   ],
   "source": [
    "preds_vote3 = vote3.predict(trans_test)\n",
    "preds_vote3.shape"
   ]
  },
  {
   "cell_type": "code",
   "execution_count": 60,
   "metadata": {},
   "outputs": [],
   "source": [
    "def save_prediction_to_csv(y_pred):\n",
    "    \"\"\"\n",
    "    Use this function to save your prediction result to a csv file.\n",
    "    The resulting csv file is named as [team_name].csv\n",
    "\n",
    "    :param y_pred: an array or a pandas series that follows the SAME index order as in the testing data\n",
    "    \"\"\"\n",
    "    pd.DataFrame(dict(\n",
    "        target=y_pred\n",
    "    )).to_csv('predictions.csv', index=False, header=False)"
   ]
  },
  {
   "cell_type": "code",
   "execution_count": 61,
   "metadata": {},
   "outputs": [],
   "source": [
    "save_prediction_to_csv(preds_vote3)"
   ]
  },
  {
   "cell_type": "code",
   "execution_count": 63,
   "metadata": {},
   "outputs": [
    {
     "data": {
      "text/plain": [
       "0.1294820197568804"
      ]
     },
     "execution_count": 63,
     "metadata": {},
     "output_type": "execute_result"
    }
   ],
   "source": [
    "np.mean(preds_vote3)"
   ]
  },
  {
   "cell_type": "code",
   "execution_count": null,
   "metadata": {},
   "outputs": [],
   "source": []
  }
 ],
 "metadata": {
  "kernelspec": {
   "display_name": "Python 3",
   "language": "python",
   "name": "python3"
  },
  "language_info": {
   "codemirror_mode": {
    "name": "ipython",
    "version": 3
   },
   "file_extension": ".py",
   "mimetype": "text/x-python",
   "name": "python",
   "nbconvert_exporter": "python",
   "pygments_lexer": "ipython3",
   "version": "3.7.6"
  }
 },
 "nbformat": 4,
 "nbformat_minor": 4
}
